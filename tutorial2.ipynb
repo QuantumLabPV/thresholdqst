{
 "cells": [
  {
   "cell_type": "markdown",
   "id": "c113fee5",
   "metadata": {},
   "source": [
    "# Projectors, counts, and where to find them"
   ]
  },
  {
   "cell_type": "markdown",
   "id": "c33c599d",
   "metadata": {},
   "source": [
    "In this notebook we learn how to find which measurements are needed to perform tQST.  \n",
    "We start by importing the necessary modules."
   ]
  },
  {
   "cell_type": "code",
   "execution_count": 1,
   "id": "1ba87183",
   "metadata": {},
   "outputs": [
    {
     "name": "stdout",
     "output_type": "stream",
     "text": [
      "[]\n"
     ]
    }
   ],
   "source": [
    "from tqst_class import *"
   ]
  },
  {
   "cell_type": "markdown",
   "id": "8c41f97c",
   "metadata": {},
   "source": [
    "Suppose that our system produces a 3-qubit *GHZ* state, and we just want to understand which measurements to perform for a given value of the threshold.  \n",
    "To this end, we can generate a synthetic *GHZ* state, extract the diagonal, set the threshold, and ask the script to print which off-diagonal elements are above threshold, and which measurements are associated to those elements. The measurements are written according to the polarization notation $\\lvert H \\rangle, \\lvert V \\rangle, \\lvert D \\rangle, \\lvert A \\rangle, \\lvert R \\rangle, \\lvert L \\rangle$, and the ususal tensor product notation for multi-qubit states.  \n",
    "We now briefly show the workflow:\n",
    "1. We create an instance of the ```tQST``` class, with argument the number of qubits. The method ```get_num_of_qubits()``` let us retrieve and store the number of qubits in a variable.\n",
    "2. We generate a 3-qubit *GHZ* state.\n",
    "3. We extract the diagonal counts from the density matrix, and set them with the ```set_diagonal_counts()``` method. The method ```get_diagonal_counts()``` returns a dictionary containing the projectors and the measured diagonal elements as key-value pairs. The diagonal counts are ordered in the same way as the computational basis. In the case of 3 qubits, according to the definition of $\\lvert 0 \\rangle$ and $\\lvert 1 \\rangle$, the ordering is:\n",
    "- $\\lvert HHH \\rangle \\rightarrow 0$\n",
    "- $\\lvert HHV \\rangle \\rightarrow 1/3$\n",
    "- $\\lvert HVH \\rangle \\rightarrow 1/3$\n",
    "- $\\lvert HVV \\rangle \\rightarrow 0$\n",
    "- $\\lvert VHH \\rangle \\rightarrow 1/3$\n",
    "- $\\lvert VHV \\rangle \\rightarrow 0$\n",
    "- $\\lvert VVH \\rangle \\rightarrow 0$\n",
    "- $\\lvert VVV \\rangle \\rightarrow 0$\n",
    "4. We choose a threshold value, and set it with the ```set_threshold()``` method.\n",
    "5. We call the ```get_projectors_to_measure()``` method to find which elements are above threshold, and which are the projectors associated to those elements."
   ]
  },
  {
   "cell_type": "code",
   "execution_count": 6,
   "id": "8b3ecfbe",
   "metadata": {},
   "outputs": [
    {
     "name": "stdout",
     "output_type": "stream",
     "text": [
      "Number of qubits set to 3.\n",
      "Diagonal counts are now set.\n",
      "The threshold is now set to 0.01.\n",
      "These are the projectors you have to measure, given the provided diagonal and threshold.\n",
      "+----------------+-----------+\n",
      "| Matrix element | Projector |\n",
      "+----------------+-----------+\n",
      "|  (0, 7, 'r')   |   |DDD>   |\n",
      "|  (0, 7, 'i')   |   |DDR>   |\n",
      "+----------------+-----------+\n",
      "['DDD', 'DDR']\n"
     ]
    }
   ],
   "source": [
    "tomo = tQST(3)\n",
    "nq = tomo.get_num_of_qubits()\n",
    "\n",
    "rho = dmt.density_matrix_GHZ(nq)\n",
    "\n",
    "diag_meas = np.diagonal(rho)\n",
    "tomo.set_diagonal_counts(diag_meas)\n",
    "tdict = tomo.get_diagonal_counts()\n",
    "\n",
    "threshold = 0.01\n",
    "tomo.set_threshold(threshold)\n",
    "                   \n",
    "proj_to_measure = tomo.get_projectors_to_measure()\n",
    "\n",
    "print(proj_to_measure)"
   ]
  },
  {
   "cell_type": "markdown",
   "id": "d6128604",
   "metadata": {},
   "source": [
    "In a bit more general case, we can provide the measurements of the diagonal elements and the threshold to find which other measurements are required. For simplicity, here we generate some synthetic random diagonal elements."
   ]
  },
  {
   "cell_type": "code",
   "execution_count": 17,
   "id": "dec2ea2a",
   "metadata": {},
   "outputs": [
    {
     "name": "stdout",
     "output_type": "stream",
     "text": [
      "Number of qubits set to 3.\n",
      "Diagonal counts are now set.\n",
      "The threshold is now set to 0.14.\n",
      "These are the projectors you have to measure, given the provided diagonal and threshold.\n",
      "+----------------+-----------+\n",
      "| Matrix element | Projector |\n",
      "+----------------+-----------+\n",
      "|  (0, 1, 'r')   |   |HHD>   |\n",
      "|  (0, 1, 'i')   |   |HHR>   |\n",
      "|  (0, 6, 'r')   |   |DDH>   |\n",
      "|  (0, 6, 'i')   |   |DRH>   |\n",
      "|  (1, 2, 'r')   |   |HRR>   |\n",
      "|  (1, 2, 'i')   |   |HRD>   |\n",
      "|  (1, 3, 'r')   |   |HDV>   |\n",
      "|  (1, 3, 'i')   |   |HRV>   |\n",
      "|  (1, 4, 'r')   |   |RHR>   |\n",
      "|  (1, 4, 'i')   |   |RHD>   |\n",
      "|  (1, 6, 'r')   |   |DRR>   |\n",
      "|  (1, 6, 'i')   |   |DRD>   |\n",
      "|  (2, 6, 'r')   |   |DVH>   |\n",
      "|  (2, 6, 'i')   |   |RVH>   |\n",
      "|  (3, 6, 'r')   |   |RVR>   |\n",
      "|  (3, 6, 'i')   |   |RVD>   |\n",
      "|  (4, 6, 'r')   |   |VDH>   |\n",
      "|  (4, 6, 'i')   |   |VRH>   |\n",
      "+----------------+-----------+\n",
      "['HHD', 'HHR', 'DDH', 'DRH', 'HRR', 'HRD', 'HDV', 'HRV', 'RHR', 'RHD', 'DRR', 'DRD', 'DVH', 'RVH', 'RVR', 'RVD', 'VDH', 'VRH']\n"
     ]
    }
   ],
   "source": [
    "tomo = tQST(3)\n",
    "nq = tomo.get_num_of_qubits()\n",
    "\n",
    "diag_meas = np.random.uniform(low = 0, high = 1, size=(2**nq))\n",
    "tomo.set_diagonal_counts(diag_meas)\n",
    "tdict = tomo.get_diagonal_counts()\n",
    "\n",
    "threshold = 0.14\n",
    "tomo.set_threshold(threshold)\n",
    "\n",
    "projs_to_meas = tomo.get_projectors_to_measure()\n",
    "\n",
    "print(projs_to_meas)"
   ]
  }
 ],
 "metadata": {
  "kernelspec": {
   "display_name": "Python 3 (ipykernel)",
   "language": "python",
   "name": "python3"
  },
  "language_info": {
   "codemirror_mode": {
    "name": "ipython",
    "version": 3
   },
   "file_extension": ".py",
   "mimetype": "text/x-python",
   "name": "python",
   "nbconvert_exporter": "python",
   "pygments_lexer": "ipython3",
   "version": "3.10.9"
  }
 },
 "nbformat": 4,
 "nbformat_minor": 5
}
